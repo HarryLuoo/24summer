{
 "cells": [
  {
   "cell_type": "code",
   "execution_count": 2,
   "metadata": {},
   "outputs": [
    {
     "data": {
      "application/vnd.jupyter.widget-view+json": {
       "model_id": "d5474e70e40a430abc2609e2bd450ee5",
       "version_major": 2,
       "version_minor": 0
      },
      "text/plain": [
       "HBox(children=(FloatSlider(value=0.0, description='Shift to MT2:', max=0.25, step=0.01), FloatSlider(value=0.0…"
      ]
     },
     "metadata": {},
     "output_type": "display_data"
    },
    {
     "data": {
      "application/vnd.jupyter.widget-view+json": {
       "model_id": "eb48c5f3a0b14786a8e975c7c73375f3",
       "version_major": 2,
       "version_minor": 0
      },
      "text/plain": [
       "Output()"
      ]
     },
     "metadata": {},
     "output_type": "display_data"
    }
   ],
   "source": [
    "import ipywidgets as widgets\n",
    "from IPython.display import display\n",
    "\n",
    "# Given grades and initial weights\n",
    "homework_percentage = 98.33\n",
    "quizzes_percentage = 92.19\n",
    "midterm1_percentage = 66.32\n",
    "midterm2_percentage = 76.84\n",
    "\n",
    "# Weights\n",
    "weight_hw = 0.10\n",
    "weight_quizzes = 0.07\n",
    "weight_midterm1 = 0.25\n",
    "weight_midterm2 = 0.25\n",
    "weight_final = 0.33\n",
    "\n",
    "# Grade cutoffs\n",
    "target_grade_ab = 87  # AB grade cutoff\n",
    "target_grade_b = 77   # B grade cutoff\n",
    "\n",
    "# Function to recalculate required scores\n",
    "def calculate_final_scores(shift_to_mt2, shift_to_final):\n",
    "    new_weight_midterm1 = weight_midterm1 - shift_to_mt2 - shift_to_final\n",
    "    new_weight_midterm2 = weight_midterm2 + shift_to_mt2\n",
    "    new_weight_final = weight_final + shift_to_final\n",
    "    \n",
    "    # Calculate current contribution without the final\n",
    "    current_contribution = (weight_hw * homework_percentage + \n",
    "                            weight_quizzes * quizzes_percentage +\n",
    "                            new_weight_midterm1 * midterm1_percentage + \n",
    "                            new_weight_midterm2 * midterm2_percentage)\n",
    "    \n",
    "    # Required scores for AB and B\n",
    "    needed_score_ab = (target_grade_ab - current_contribution) / new_weight_final\n",
    "    needed_score_b = (target_grade_b - current_contribution) / new_weight_final\n",
    "    \n",
    "    print(f\"With {shift_to_mt2*100}% weight shifted from MT1 to MT2, and {shift_to_final*100}% shifted to the Final:\")\n",
    "    print(f\"Final score needed for AB: {needed_score_ab:.2f}%\")\n",
    "    print(f\"Final score needed for B: {needed_score_b:.2f}%\")\n",
    "\n",
    "# Interactive sliders\n",
    "shift_to_mt2_slider = widgets.FloatSlider(value=0.0, min=0, max=0.25, step=0.01, description='Shift to MT2:')\n",
    "shift_to_final_slider = widgets.FloatSlider(value=0.0, min=0, max=0.25, step=0.01, description='Shift to Final:')\n",
    "\n",
    "# Link sliders and function\n",
    "ui = widgets.HBox([shift_to_mt2_slider, shift_to_final_slider])\n",
    "out = widgets.interactive_output(calculate_final_scores, {'shift_to_mt2': shift_to_mt2_slider, 'shift_to_final': shift_to_final_slider})\n",
    "display(ui, out)\n"
   ]
  }
 ],
 "metadata": {
  "kernelspec": {
   "display_name": "Python 3",
   "language": "python",
   "name": "python3"
  },
  "language_info": {
   "codemirror_mode": {
    "name": "ipython",
    "version": 3
   },
   "file_extension": ".py",
   "mimetype": "text/x-python",
   "name": "python",
   "nbconvert_exporter": "python",
   "pygments_lexer": "ipython3",
   "version": "3.11.9"
  }
 },
 "nbformat": 4,
 "nbformat_minor": 2
}
